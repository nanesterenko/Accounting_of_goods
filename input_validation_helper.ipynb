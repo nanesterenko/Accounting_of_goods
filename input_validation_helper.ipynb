{
 "cells": [
  {
   "cell_type": "code",
   "execution_count": null,
   "id": "a8a384d1-fd56-47a1-a61e-2adb9e50def5",
   "metadata": {},
   "outputs": [],
   "source": [
    "!pip install jsonschema"
   ]
  },
  {
   "cell_type": "code",
   "execution_count": 16,
   "id": "91a06d0c-a6a9-4c47-86b7-7e588ea06979",
   "metadata": {},
   "outputs": [],
   "source": [
    "import jsonschema"
   ]
  },
  {
   "cell_type": "code",
   "execution_count": 17,
   "id": "7dd27f23-0bd0-425f-8980-f391bd74c05b",
   "metadata": {},
   "outputs": [],
   "source": [
    "SCHEMA = {\n",
    "    \"type\": \"object\",\n",
    "    \"required\": [\n",
    "        \"id\",\n",
    "        \"name\",\n",
    "        \"package_params\",\n",
    "        \"location_and_quantity\"\n",
    "    ],\n",
    "    \"properties\": {\n",
    "        \"id\": {\n",
    "            \"type\": \"integer\"\n",
    "        },\n",
    "        \"name\": {\n",
    "            \"type\": \"string\"\n",
    "        },\n",
    "        \"package_params\": {\n",
    "            \"type\": \"object\",\n",
    "            \"required\": [\n",
    "                \"type\",\n",
    "                \"width\",\n",
    "                \"height\",\n",
    "                \"depth\"\n",
    "            ],\n",
    "            \"properties\": {\n",
    "                \"type\": {\n",
    "                    \"type\": \"string\"\n",
    "                },\n",
    "                \"width\": {\n",
    "                    \"type\": \"integer\"\n",
    "                },\n",
    "                \"height\": {\n",
    "                    \"type\": \"number\"\n",
    "                },\n",
    "                \"depth\": {\n",
    "                    \"type\": \"number\"\n",
    "                }\n",
    "            }\n",
    "        },\n",
    "        \"location_and_quantity\": {\n",
    "            \"type\": \"array\",\n",
    "            \"items\": {\n",
    "                \"anyOf\": [\n",
    "                    {\n",
    "                        \"type\": \"object\",\n",
    "                        \"required\": [\n",
    "                            \"location\",\n",
    "                            \"amount\"\n",
    "                        ],\n",
    "                        \"properties\": {\n",
    "                            \"location\": {\n",
    "                                \"type\": \"string\"\n",
    "                            },\n",
    "                            \"amount\": {\n",
    "                                \"type\": \"integer\"\n",
    "                            }\n",
    "                        }\n",
    "                    }\n",
    "                ]\n",
    "            }\n",
    "        }\n",
    "    }\n",
    "}"
   ]
  },
  {
   "cell_type": "code",
   "execution_count": 18,
   "id": "19fac03e-17d6-4e0c-ad63-29747908487d",
   "metadata": {},
   "outputs": [],
   "source": [
    "example_input_positive = {\n",
    "    \"id\" : 5,\n",
    "    \"name\" : \"NVIDIA GeForce RTX 3090\",\n",
    "    \"package_params\" : {\n",
    "            \"type\" : \"cardboard_box\",\n",
    "            \"width\" : 31,\n",
    "            \"height\" : 14,\n",
    "            \"depth\" : 10\n",
    "        },\n",
    "    \"location_and_quantity\" : [\n",
    "        {\n",
    "            \"location\" : \"Магазин БытЭлектроника на Мира 55\",\n",
    "            \"amount\" : 1\n",
    "        },\n",
    "        {\n",
    "            \"location\" : \"Магазин БытЭлектроника микрорайон Восточный\",\n",
    "            \"amount\" : 2\n",
    "        }\n",
    "        \n",
    "    ]\n",
    "}"
   ]
  },
  {
   "cell_type": "code",
   "execution_count": 19,
   "id": "3a5e6442-a58a-4edc-b718-b2002f12fe59",
   "metadata": {},
   "outputs": [],
   "source": [
    "assert jsonschema.validate(example_input_positive, SCHEMA) is None"
   ]
  },
  {
   "cell_type": "code",
   "execution_count": 20,
   "id": "32657231-3400-49a5-9773-4525f0ad3458",
   "metadata": {},
   "outputs": [],
   "source": [
    "example_input_positive_2 = {\n",
    "    \"id\" : 5,\n",
    "    \"name\" : \"NVIDIA GeForce RTX 3090\",\n",
    "    \"package_params\" : {\n",
    "            \"type\" : \"cardboard_box\",\n",
    "            \"width\" : 31,\n",
    "            \"height\" : 14,\n",
    "            \"depth\" : 10\n",
    "        },\n",
    "    \"location_and_quantity\" : []\n",
    "}"
   ]
  },
  {
   "cell_type": "code",
   "execution_count": 21,
   "id": "5d98b411-adf5-423a-ab7f-691658350a12",
   "metadata": {},
   "outputs": [],
   "source": [
    "assert jsonschema.validate(example_input_positive_2, SCHEMA) is None"
   ]
  },
  {
   "cell_type": "code",
   "execution_count": 22,
   "id": "aaf7b7b2-54d2-4c5d-9e07-12dcc01f941e",
   "metadata": {},
   "outputs": [],
   "source": [
    "example_input_negative = {\n",
    "    \"id\" : 5,\n",
    "    \"name\" : \"NVIDIA GeForce RTX 3090\",\n",
    "    \"package_params\" : {\n",
    "            \"type\" : \"cardboard_box\",\n",
    "            \"width\" : 31,\n",
    "            \"height\" : \"14\",\n",
    "            \"depth\" : 10\n",
    "        },\n",
    "    \"location_and_quantity\" : [\n",
    "        {\n",
    "            \"location\" : \"Магазин AllRight Computers Центральная 200\",\n",
    "            \"quantity\" : \"нет данных\"\n",
    "        },\n",
    "        {\n",
    "            \"location\" : \"Магазин AllRight Computers Абовяна 14, Ереван\",\n",
    "            \"quantity\" : 2\n",
    "        }\n",
    "        \n",
    "    ]\n",
    "}"
   ]
  },
  {
   "cell_type": "code",
   "execution_count": 23,
   "id": "a9ea9788-7dc6-46e1-9d55-cbaeac62092b",
   "metadata": {},
   "outputs": [
    {
     "ename": "ValidationError",
     "evalue": "'14' is not of type 'number'\n\nFailed validating 'type' in schema['properties']['package_params']['properties']['height']:\n    {'type': 'number'}\n\nOn instance['package_params']['height']:\n    '14'",
     "output_type": "error",
     "traceback": [
      "\u001b[0;31m---------------------------------------------------------------------------\u001b[0m",
      "\u001b[0;31mValidationError\u001b[0m                           Traceback (most recent call last)",
      "Input \u001b[0;32mIn [23]\u001b[0m, in \u001b[0;36m<module>\u001b[0;34m\u001b[0m\n\u001b[0;32m----> 1\u001b[0m \u001b[43mjsonschema\u001b[49m\u001b[38;5;241;43m.\u001b[39;49m\u001b[43mvalidate\u001b[49m\u001b[43m(\u001b[49m\u001b[43mexample_input_negative\u001b[49m\u001b[43m,\u001b[49m\u001b[43m \u001b[49m\u001b[43mSCHEMA\u001b[49m\u001b[43m)\u001b[49m\n",
      "File \u001b[0;32m~/Workspace/venv/lib/python3.10/site-packages/jsonschema/validators.py:1022\u001b[0m, in \u001b[0;36mvalidate\u001b[0;34m(instance, schema, cls, *args, **kwargs)\u001b[0m\n\u001b[1;32m   1020\u001b[0m error \u001b[38;5;241m=\u001b[39m exceptions\u001b[38;5;241m.\u001b[39mbest_match(validator\u001b[38;5;241m.\u001b[39miter_errors(instance))\n\u001b[1;32m   1021\u001b[0m \u001b[38;5;28;01mif\u001b[39;00m error \u001b[38;5;129;01mis\u001b[39;00m \u001b[38;5;129;01mnot\u001b[39;00m \u001b[38;5;28;01mNone\u001b[39;00m:\n\u001b[0;32m-> 1022\u001b[0m     \u001b[38;5;28;01mraise\u001b[39;00m error\n",
      "\u001b[0;31mValidationError\u001b[0m: '14' is not of type 'number'\n\nFailed validating 'type' in schema['properties']['package_params']['properties']['height']:\n    {'type': 'number'}\n\nOn instance['package_params']['height']:\n    '14'"
     ]
    }
   ],
   "source": [
    "jsonschema.validate(example_input_negative, SCHEMA) # ValidationError"
   ]
  }
 ],
 "metadata": {
  "kernelspec": {
   "display_name": "Python 3 (ipykernel)",
   "language": "python",
   "name": "python3"
  },
  "language_info": {
   "codemirror_mode": {
    "name": "ipython",
    "version": 3
   },
   "file_extension": ".py",
   "mimetype": "text/x-python",
   "name": "python",
   "nbconvert_exporter": "python",
   "pygments_lexer": "ipython3",
   "version": "3.10.2"
  }
 },
 "nbformat": 4,
 "nbformat_minor": 5
}
